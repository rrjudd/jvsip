{
 "cells": [
  {
   "cell_type": "markdown",
   "id": "25e2e0bd",
   "metadata": {},
   "source": [
    "### Create Block\n",
    "\n",
    "Blocks are the basic storage unit. Every **view** will reference some **block** where the data is stored.\n",
    "\n",
    "Before starting we need to import the **pyJvsip** module.  I use **pjv** for the alias."
   ]
  },
  {
   "cell_type": "code",
   "execution_count": 1,
   "id": "81f8c6e5",
   "metadata": {},
   "outputs": [],
   "source": [
    "import pyJvsip as pjv"
   ]
  },
  {
   "cell_type": "markdown",
   "id": "b61ea1ea",
   "metadata": {},
   "source": [
    "You can create a simple block with the **Block** class.  Blocks are all typed and have length. The length and type are imutable. Once it is created that is what you have.  For more information on VSIPL block types see the VSIPL specification.  Note the blocks contain VSIPL defined scalar values and the length is the number of scalars the block can store. For now know we have the following types.\n",
    "\n",
    "* **'block_f'** Float \n",
    "* **'block_d'** Double \n",
    "* **'cblock_f'** Complex Float \n",
    "* **'cblock_d'** Complex Double\n",
    "* **'block_vi'** Vector index\n",
    "* **'block_mi'** Matrix index\n",
    "* **'block_bl'** Boolean\n",
    "* **'block_si'** Short integer\n",
    "* **'block_i'** Integer\n",
    "* **'block_uc'** Unsigned Char\n",
    "\n",
    "Below we create a block of type double to store up to 500 values."
   ]
  },
  {
   "cell_type": "code",
   "execution_count": 2,
   "id": "761b4ef9",
   "metadata": {},
   "outputs": [],
   "source": [
    "ablock = pjv.Block('block_d',500)"
   ]
  },
  {
   "cell_type": "markdown",
   "id": "48756208",
   "metadata": {},
   "source": [
    "### Create View\n",
    "\n",
    "You cannot do much with just a block.  You generally work with views of type **matrix** or **vector**.\n",
    "\n",
    "Blocks have a **bind** method which will create the view and bind it to the block.\n",
    "\n",
    "The bind method takes an offset, stride, and length for vectors and offset, row stride, row length, column stride, and column length for matrices.  See C VSIPL specification for information on how data in blocks is referenced by the view.  The view will get it's type from the block and call sequence. Note that view data cannot exceed the data length of the block.\n",
    "\n",
    "View types are as follows\n",
    "\n",
    "**vector**\n",
    "* **'vview_f'**\n",
    "* **'vview_d'**\n",
    "* **'cvview_f'**\n",
    "* **'cvview_d'**\n",
    "* **'vview_si'**\n",
    "* **'vview_i'**\n",
    "* **'vview_uc'**\n",
    "* **'vview_mi'**\n",
    "* **'vview_vi'**\n",
    "* **'vview_bl'**\n",
    "\n",
    "**matrix**\n",
    "* **'mview_f'**\n",
    "* **'mview_d'**\n",
    "* **'cmview_f'**\n",
    "* **'cmview_d'**\n",
    "* **'mview_si'**\n",
    "* **'mview_i'**\n",
    "* **'mview_uc'**\n",
    "* **'mview_bl'**\n",
    "\n",
    "Note that scalar types matrix and vector index (**mi** and **vi**) are not supported by matrix views."
   ]
  },
  {
   "cell_type": "markdown",
   "id": "ec5ca984",
   "metadata": {},
   "source": [
    "Create vector of length 10"
   ]
  },
  {
   "cell_type": "code",
   "execution_count": 3,
   "id": "294bef3d",
   "metadata": {},
   "outputs": [
    {
     "data": {
      "text/plain": [
       "'vview_d'"
      ]
     },
     "execution_count": 3,
     "metadata": {},
     "output_type": "execute_result"
    }
   ],
   "source": [
    "stride = 1\n",
    "length = 10\n",
    "offset = 0\n",
    "avector = ablock.bind(offset,stride,length)\n",
    "avector.type"
   ]
  },
  {
   "cell_type": "markdown",
   "id": "bf3cd74f",
   "metadata": {},
   "source": [
    "create matrix of size (4,5)"
   ]
  },
  {
   "cell_type": "code",
   "execution_count": 4,
   "id": "4ac6e021",
   "metadata": {},
   "outputs": [
    {
     "data": {
      "text/plain": [
       "'mview_d'"
      ]
     },
     "execution_count": 4,
     "metadata": {},
     "output_type": "execute_result"
    }
   ],
   "source": [
    "rowstride = 1\n",
    "colstride = 5\n",
    "rowlength = 5\n",
    "collength = 4\n",
    "amatrix = ablock.bind(offset,colstride,collength,rowstride,rowlength)\n",
    "amatrix.type"
   ]
  },
  {
   "cell_type": "markdown",
   "id": "d431dc08",
   "metadata": {},
   "source": [
    "Blocks have a convenience method **vector** which returns a unit stride zero offset vector of block length. There is also a generator function called ramp. We fill ablock with data 0.0, 1.0,..., ablock.length-1"
   ]
  },
  {
   "cell_type": "code",
   "execution_count": 5,
   "id": "a29e5195",
   "metadata": {},
   "outputs": [
    {
     "data": {
      "text/plain": [
       "<pyJvsip.Block.__View at 0x1077128c0>"
      ]
     },
     "execution_count": 5,
     "metadata": {},
     "output_type": "execute_result"
    }
   ],
   "source": [
    "ablock.vector.ramp(0,1)"
   ]
  },
  {
   "cell_type": "markdown",
   "id": "d7037554",
   "metadata": {},
   "source": [
    "In the above operation we wanted to fill the block with data using ramp.  We created the vector for ramp to use but we did not set it egual to anything so the view was not kept and was deleted by python after ramp was done with it. \n",
    "\n",
    "Now print *avector*"
   ]
  },
  {
   "cell_type": "code",
   "execution_count": 6,
   "id": "615c2fcc",
   "metadata": {},
   "outputs": [
    {
     "name": "stdout",
     "output_type": "stream",
     "text": [
      "[ 0.0  1.0  2.0  3.0  4.0  5.0  6.0  7.0  8.0  9.0]\n",
      "\n"
     ]
    }
   ],
   "source": [
    "avector.mprint('%0.1f')"
   ]
  },
  {
   "cell_type": "markdown",
   "id": "c0553ffa",
   "metadata": {},
   "source": [
    "Now print *amatrix*"
   ]
  },
  {
   "cell_type": "code",
   "execution_count": 7,
   "id": "72549017",
   "metadata": {},
   "outputs": [
    {
     "name": "stdout",
     "output_type": "stream",
     "text": [
      "[ 0.0  1.0  2.0  3.0  4.0;\n",
      "  5.0  6.0  7.0  8.0  9.0;\n",
      "  10.0  11.0  12.0  13.0  14.0;\n",
      "  15.0  16.0  17.0  18.0  19.0]\n",
      "\n"
     ]
    }
   ],
   "source": [
    "amatrix.mprint('%0.1f')"
   ]
  },
  {
   "cell_type": "markdown",
   "id": "3605d166",
   "metadata": {},
   "source": [
    "### Convenience methods \n",
    "\n",
    "Frequently you want a view of the same size and type as another view.  There are three methods for doing this called **clone**, **copy**, and **empty**.  \n",
    "\n",
    "#### **clone**\n",
    "The clone method will create a new view on the same block as the calling view and the cloned view will exactly reference the same data as the calling view.  Cloning is handy if you want a new view to modify the attributes but don't want to change the attributes on the calling view.\n",
    "\n",
    "#### **copy**\n",
    "The copy method will create a new view of the same size as the calling method and a new block to store the data.  The new block will (probably) not be the same size as the calling views block.  It will be the exact size to fit the views data. The calling views data is copied into the new view.\n",
    "\n",
    "#### **empty**\n",
    "The empty method will do the same thing as the copy method except it will not copy the data.  Frequently you need another view of the same size and type but the data of the calling view is not important.\n",
    "\n",
    "Below we have some examples."
   ]
  },
  {
   "cell_type": "code",
   "execution_count": 8,
   "id": "211a2ab5",
   "metadata": {},
   "outputs": [],
   "source": [
    "amatrixClone = amatrix.clone"
   ]
  },
  {
   "cell_type": "code",
   "execution_count": 9,
   "id": "e12804d0",
   "metadata": {},
   "outputs": [
    {
     "name": "stdout",
     "output_type": "stream",
     "text": [
      "[ 0.0  1.0  2.0  3.0  4.0;\n",
      "  5.0  100.0  7.0  8.0  9.0;\n",
      "  10.0  11.0  12.0  13.0  14.0;\n",
      "  15.0  16.0  17.0  18.0  19.0]\n",
      "\n"
     ]
    }
   ],
   "source": [
    "amatrixClone[1,1] = 100\n",
    "amatrix.mprint('%0.1f')"
   ]
  },
  {
   "cell_type": "code",
   "execution_count": 10,
   "id": "63878228",
   "metadata": {},
   "outputs": [
    {
     "name": "stdout",
     "output_type": "stream",
     "text": [
      "[ 0.0  1.0  2.0  3.0  4.0;\n",
      "  5.0  6.0  7.0  8.0  9.0;\n",
      "  10.0  11.0  12.0  13.0  14.0;\n",
      "  15.0  16.0  17.0  18.0  19.0]\n",
      "\n",
      "[ 0.0  1.0  2.0  3.0  4.0;\n",
      "  5.0  100.0  7.0  8.0  9.0;\n",
      "  10.0  11.0  12.0  13.0  14.0;\n",
      "  15.0  16.0  17.0  18.0  19.0]\n",
      "\n"
     ]
    }
   ],
   "source": [
    "amatrixCopy = amatrix.copy\n",
    "amatrixCopy[1,1] = 6.0\n",
    "amatrixCopy.mprint('%0.1f')\n",
    "amatrix.mprint('%0.1f')"
   ]
  },
  {
   "cell_type": "code",
   "execution_count": 11,
   "id": "4de75559",
   "metadata": {},
   "outputs": [
    {
     "name": "stdout",
     "output_type": "stream",
     "text": [
      "[ 0.0  0.0  0.0  0.0  0.0;\n",
      "  0.0  0.0  0.0  0.0  0.0;\n",
      "  0.0  0.0  0.0  0.0  0.0;\n",
      "  0.0  0.0  0.0  0.0  0.0]\n",
      "\n"
     ]
    }
   ],
   "source": [
    "amatrixEmpty = amatrix.empty\n",
    "amatrixEmpty.fill(0.0)\n",
    "amatrixEmpty.mprint('%0.1f')"
   ]
  },
  {
   "cell_type": "code",
   "execution_count": 12,
   "id": "b42dad74",
   "metadata": {},
   "outputs": [
    {
     "name": "stdout",
     "output_type": "stream",
     "text": [
      "500\n",
      "500\n",
      "20\n",
      "20\n"
     ]
    }
   ],
   "source": [
    "print(amatrix.block.length)\n",
    "print(amatrixClone.block.length)\n",
    "print(amatrixEmpty.block.length)\n",
    "print(amatrixCopy.block.length)"
   ]
  },
  {
   "cell_type": "markdown",
   "id": "211547f1",
   "metadata": {},
   "source": [
    "#### Note\n",
    "**amatrix.block** and **amatrixClone.block** are the same block.  **amatrixEmpty.block** and **amatrixCopy.block** are new blocks and not related to each other."
   ]
  },
  {
   "cell_type": "code",
   "execution_count": null,
   "id": "d748f074",
   "metadata": {},
   "outputs": [],
   "source": []
  }
 ],
 "metadata": {
  "kernelspec": {
   "display_name": "Python 3 (ipykernel)",
   "language": "python",
   "name": "python3"
  },
  "language_info": {
   "codemirror_mode": {
    "name": "ipython",
    "version": 3
   },
   "file_extension": ".py",
   "mimetype": "text/x-python",
   "name": "python",
   "nbconvert_exporter": "python",
   "pygments_lexer": "ipython3",
   "version": "3.10.6"
  }
 },
 "nbformat": 4,
 "nbformat_minor": 5
}
