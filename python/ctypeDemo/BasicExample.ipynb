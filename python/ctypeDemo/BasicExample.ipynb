{
 "cells": [
  {
   "cell_type": "code",
   "execution_count": 1,
   "id": "7e43270d",
   "metadata": {},
   "outputs": [],
   "source": [
    "from simpleEx import *"
   ]
  },
  {
   "cell_type": "markdown",
   "id": "d2c91513",
   "metadata": {},
   "source": [
    "# Contents of simpleEx\n",
    "\n",
    "Example of C VSIPL in Python using the ctypes module.\n",
    "\n",
    "```python\n",
    "import ctypes\n",
    "lib=ctypes.CDLL(\"libvsip.so\")\n",
    "\n",
    "memory_hint = {\n",
    "    \"VSIP_MEM_NONE\":ctypes.c_int(0),\n",
    "    \"VSIP_MEM_RDONLY\":ctypes.c_int(1),\n",
    "    \"VSIP_MEM_CONST\":ctypes.c_int(2),\n",
    "    \"VSIP_MEM_SHARED\":ctypes.c_int(3),\n",
    "    \"VSIP_MEM_SHARED_RDONLY\":ctypes.c_int(4),\n",
    "    \"VSIP_MEM_SHARED_CONST\":ctypes.c_int(5)}\n",
    "\n",
    "def vsipInit():\n",
    "    lib.vsip_init.restype=ctypes.c_int\n",
    "    return lib.vsip_init(ctypes.c_void_p(0))\n",
    "    \n",
    "    \n",
    "def vsipFinalize():\n",
    "    lib.vsip_finalize.restype=ctypes.c_int\n",
    "    return lib.vsip_finalize(ctypes.c_void_p(0))\n",
    "\n",
    "\n",
    "def vcreate_f(len):\n",
    "    lib.vsip_vcreate_f.restype = ctypes.c_void_p\n",
    "    return lib.vsip_vcreate_f(ctypes.c_ulong(len),memory_hint[\"VSIP_MEM_NONE\"])\n",
    "\n",
    "\n",
    "def vdestroy_f(v):\n",
    "    lib.vsip_valldestroy_f(ctypes.c_void_p(v))\n",
    "\n",
    "def vramp_f(start,step,v):\n",
    "    lib.vsip_vramp_f(ctypes.c_float(start), ctypes.c_float(step), ctypes.c_void_p(v))\n",
    "\n",
    "def vget_f(i,v):\n",
    "    lib.vsip_vget_f.restype = ctypes.c_float\n",
    "    return lib.vsip_vget_f(ctypes.c_void_p(v),ctypes.c_ulong(i))\n",
    "```\n",
    "Above we have defined python functions to mirror C VSIPL functions using C VSIPL calls.  Below we excercise these simple calls to create and print out a ramp.  "
   ]
  },
  {
   "cell_type": "code",
   "execution_count": 2,
   "id": "334bb5cf",
   "metadata": {},
   "outputs": [
    {
     "data": {
      "text/plain": [
       "0"
      ]
     },
     "execution_count": 2,
     "metadata": {},
     "output_type": "execute_result"
    }
   ],
   "source": [
    "vsipInit()"
   ]
  },
  {
   "cell_type": "code",
   "execution_count": 3,
   "id": "ebfeb6d0",
   "metadata": {},
   "outputs": [],
   "source": [
    "len = 14"
   ]
  },
  {
   "cell_type": "code",
   "execution_count": 4,
   "id": "e43171cc",
   "metadata": {},
   "outputs": [],
   "source": [
    "v = vcreate_f(len)"
   ]
  },
  {
   "cell_type": "code",
   "execution_count": 5,
   "id": "e153d8a9",
   "metadata": {},
   "outputs": [],
   "source": [
    "vramp_f(0,1,v)"
   ]
  },
  {
   "cell_type": "code",
   "execution_count": 6,
   "id": "763304b7",
   "metadata": {},
   "outputs": [
    {
     "name": "stdout",
     "output_type": "stream",
     "text": [
      "0.0\n",
      "1.0\n",
      "2.0\n",
      "3.0\n",
      "4.0\n",
      "5.0\n",
      "6.0\n",
      "7.0\n",
      "8.0\n",
      "9.0\n",
      "10.0\n",
      "11.0\n",
      "12.0\n",
      "13.0\n"
     ]
    }
   ],
   "source": [
    "for i in range(len):\n",
    "    print(vget_f(i,v))"
   ]
  },
  {
   "cell_type": "code",
   "execution_count": 7,
   "id": "6b5c8a47",
   "metadata": {},
   "outputs": [],
   "source": [
    "vdestroy_f(v)"
   ]
  },
  {
   "cell_type": "code",
   "execution_count": 8,
   "id": "696d2459",
   "metadata": {},
   "outputs": [
    {
     "data": {
      "text/plain": [
       "0"
      ]
     },
     "execution_count": 8,
     "metadata": {},
     "output_type": "execute_result"
    }
   ],
   "source": [
    "vsipFinalize()"
   ]
  },
  {
   "cell_type": "code",
   "execution_count": null,
   "id": "b2502f5e",
   "metadata": {},
   "outputs": [],
   "source": []
  }
 ],
 "metadata": {
  "kernelspec": {
   "display_name": "Python 3 (ipykernel)",
   "language": "python",
   "name": "python3"
  },
  "language_info": {
   "codemirror_mode": {
    "name": "ipython",
    "version": 3
   },
   "file_extension": ".py",
   "mimetype": "text/x-python",
   "name": "python",
   "nbconvert_exporter": "python",
   "pygments_lexer": "ipython3",
   "version": "3.10.6"
  }
 },
 "nbformat": 4,
 "nbformat_minor": 5
}
